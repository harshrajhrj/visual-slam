{
 "cells": [
  {
   "cell_type": "code",
   "execution_count": 1,
   "id": "29c953cd",
   "metadata": {},
   "outputs": [
    {
     "name": "stdout",
     "output_type": "stream",
     "text": [
      "keypoints[0]:\n",
      "\t class_id: \t -1\n",
      "\t angle: \t 91.45156860351562\n",
      "\t octave: \t 3736063\n",
      "\t pt: \t\t (2.315509080886841, 413.1140441894531)\n",
      "\t size: \t\t 1.8908823728561401\n",
      "\t response: \t 0.06903985142707825\n"
     ]
    },
    {
     "data": {
      "text/plain": [
       "True"
      ]
     },
     "execution_count": 1,
     "metadata": {},
     "output_type": "execute_result"
    }
   ],
   "source": [
    "import cv2\n",
    "\n",
    "img = cv2.imread(\"home.jpg\")\n",
    "gray_img = cv2.cvtColor(img, cv2.COLOR_BGR2GRAY)\n",
    "\n",
    "sift = cv2.SIFT_create()\n",
    "keypoints: list[cv2.KeyPoint] = sift.detect(gray_img, None)\n",
    "\n",
    "print(\"keypoints[0]:\")\n",
    "print(\"\\t class_id: \\t\", keypoints[0].class_id)\n",
    "print(\"\\t angle: \\t\", keypoints[0].angle)\n",
    "print(\"\\t octave: \\t\", keypoints[0].octave)\n",
    "print(\"\\t pt: \\t\\t\", keypoints[0].pt)\n",
    "print(\"\\t size: \\t\\t\", keypoints[0].size)\n",
    "print(\"\\t response: \\t\", keypoints[0].response)\n",
    "\n",
    "# annotated_img = cv2.drawKeypoints(gray_img, keypoints, img)\n",
    "annotated_img = cv2.drawKeypoints(\n",
    "    gray_img, keypoints, img, flags=cv2.DRAW_MATCHES_FLAGS_DRAW_RICH_KEYPOINTS\n",
    ")\n",
    "\n",
    "cv2.imwrite(\"sift_keypoints.jpg\", annotated_img)\n"
   ]
  },
  {
   "cell_type": "code",
   "execution_count": null,
   "id": "e030bfb2",
   "metadata": {},
   "outputs": [],
   "source": []
  }
 ],
 "metadata": {
  "kernelspec": {
   "display_name": "dev",
   "language": "python",
   "name": "python3"
  },
  "language_info": {
   "codemirror_mode": {
    "name": "ipython",
    "version": 3
   },
   "file_extension": ".py",
   "mimetype": "text/x-python",
   "name": "python",
   "nbconvert_exporter": "python",
   "pygments_lexer": "ipython3",
   "version": "3.12.9"
  }
 },
 "nbformat": 4,
 "nbformat_minor": 5
}
